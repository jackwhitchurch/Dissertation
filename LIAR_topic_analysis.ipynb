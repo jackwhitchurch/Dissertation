{
 "cells": [
  {
   "cell_type": "markdown",
   "metadata": {},
   "source": [
    "# Calculating the frequency that topics occur in the LIAR dataset using the \"subject\" column"
   ]
  },
  {
   "cell_type": "markdown",
   "metadata": {},
   "source": [
    "## Reading in the LIAR dataset"
   ]
  },
  {
   "cell_type": "code",
   "execution_count": 1,
   "metadata": {},
   "outputs": [],
   "source": [
    "import pandas as pd\n",
    "\n",
    "# Reading both the training and testing dataset\n",
    "\n",
    "LIAR_train = pd.read_csv(\"liar_dataset/train.tsv\", sep='\\t', header=0)\n",
    "LIAR_test = pd.read_csv(\"liar_dataset/test.tsv\", sep='\\t', header=0)\n",
    "\n",
    "# Adding the column names to both dataset\n",
    "\n",
    "LIAR_train.columns =[\"id\", \"label\", \"statement\", \"subject\", \"speaker\", \"job title\", \"state info\", \"party affiliation\", \"barely true counts\", \"false counts\", \"half true counts\", \"mostly true counts\", \"pants on fire counts\", \"context\"]\n",
    "LIAR_test.columns =[\"id\", \"label\", \"statement\", \"subject\", \"speaker\", \"job title\", \"state info\", \"party affiliation\", \"barely true counts\", \"false counts\", \"half true counts\", \"mostly true counts\", \"pants on fire counts\", \"context\"]\n",
    "\n",
    "# Concatenating the training and test dataset\n",
    "\n",
    "LIAR_data = pd.concat([LIAR_train, LIAR_test], ignore_index=True, sort=False)\n",
    "\n",
    "# Dropping rows that do not represent exactly 'true' or 'false' information\n",
    "\n",
    "LIAR_data = LIAR_data.drop(LIAR_data.query('label == \"half-true\"').index)\n",
    "LIAR_data = LIAR_data.drop(LIAR_data.query('label == \"barely-true\"').index)\n",
    "LIAR_data = LIAR_data.drop(LIAR_data.query('label == \"mostly-true\"').index)"
   ]
  },
  {
   "cell_type": "markdown",
   "metadata": {},
   "source": [
    "## Calculating the count of each unique value in the subject column"
   ]
  },
  {
   "cell_type": "code",
   "execution_count": 2,
   "metadata": {},
   "outputs": [
    {
     "data": {
      "text/plain": [
       "health-care             203\n",
       "elections               156\n",
       "taxes                   136\n",
       "candidates-biography    115\n",
       "immigration             109\n",
       "education                99\n",
       "economy                  69\n",
       "guns                     68\n",
       "federal-budget           58\n",
       "economy,jobs             51\n",
       "abortion                 50\n",
       "jobs                     47\n",
       "energy                   45\n",
       "foreign-policy           44\n",
       "state-budget             40\n",
       "history                  39\n",
       "crime                    37\n",
       "ethics                   36\n",
       "transportation           36\n",
       "terrorism                35\n",
       "Name: subject, dtype: int64"
      ]
     },
     "execution_count": 2,
     "metadata": {},
     "output_type": "execute_result"
    }
   ],
   "source": [
    "subject_counts = LIAR_data['subject'].value_counts().nlargest(20)\n",
    "subject_counts"
   ]
  },
  {
   "cell_type": "markdown",
   "metadata": {},
   "source": [
    "## Presenting the frequency of subjects on a horizontal bar chart"
   ]
  },
  {
   "cell_type": "code",
   "execution_count": 3,
   "metadata": {},
   "outputs": [
    {
     "data": {
      "image/png": "[encoded data removed]",
      "text/plain": [
       "<Figure size 432x288 with 1 Axes>"
      ]
     },
     "metadata": {
      "needs_background": "light"
     },
     "output_type": "display_data"
    }
   ],
   "source": [
    "import numpy as np\n",
    "import matplotlib.pyplot as plt\n",
    "  \n",
    "subjects = list(subject_counts.keys())\n",
    "values = list(subject_counts.values)\n",
    "  \n",
    "plt.barh(subjects, values, color ='black')\n",
    "plt.xlabel(\"Frequency\")\n",
    "plt.ylabel(\"Subjects\")\n",
    "plt.title(\"Frequency of data subject in LIAR dataset\")\n",
    "plt.show()"
   ]
  }
 ],
 "metadata": {
  "kernelspec": {
   "display_name": "Python 3",
   "language": "python",
   "name": "python3"
  },
  "language_info": {
   "codemirror_mode": {
    "name": "ipython",
    "version": 3
   },
   "file_extension": ".py",
   "mimetype": "text/x-python",
   "name": "python",
   "nbconvert_exporter": "python",
   "pygments_lexer": "ipython3",
   "version": "3.8.5"
  }
 },
 "nbformat": 4,
 "nbformat_minor": 4
}
