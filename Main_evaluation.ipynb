{
 "cells": [
  {
   "cell_type": "code",
   "execution_count": 1,
   "metadata": {},
   "outputs": [
    {
     "name": "stderr",
     "output_type": "stream",
     "text": [
      "[nltk_data] Downloading package stopwords to C:\\Users\\Edit\n",
      "[nltk_data]     6\\AppData\\Roaming\\nltk_data...\n",
      "[nltk_data]   Unzipping corpora\\stopwords.zip.\n",
      "[nltk_data] Downloading package wordnet to C:\\Users\\Edit\n",
      "[nltk_data]     6\\AppData\\Roaming\\nltk_data...\n",
      "[nltk_data]   Unzipping corpora\\wordnet.zip.\n"
     ]
    },
    {
     "name": "stdout",
     "output_type": "stream",
     "text": [
      "Collecting gensim\n",
      "  Downloading gensim-4.0.1-cp38-cp38-win_amd64.whl (23.9 MB)\n",
      "Collecting smart-open>=1.8.1\n",
      "  Downloading smart_open-5.0.0-py3-none-any.whl (56 kB)\n",
      "Requirement already satisfied, skipping upgrade: numpy>=1.11.3 in c:\\users\\edit 6\\anaconda3\\lib\\site-packages (from gensim) (1.19.2)\n",
      "Requirement already satisfied, skipping upgrade: Cython==0.29.21 in c:\\users\\edit 6\\anaconda3\\lib\\site-packages (from gensim) (0.29.21)\n",
      "Requirement already satisfied, skipping upgrade: scipy>=0.18.1 in c:\\users\\edit 6\\anaconda3\\lib\\site-packages (from gensim) (1.5.2)\n",
      "Installing collected packages: smart-open, gensim\n",
      "Successfully installed gensim-4.0.1 smart-open-5.0.0\n",
      "Collecting wordcloud\n",
      "  Downloading wordcloud-1.8.1-cp38-cp38-win_amd64.whl (155 kB)\n",
      "Requirement already satisfied, skipping upgrade: matplotlib in c:\\users\\edit 6\\anaconda3\\lib\\site-packages (from wordcloud) (3.3.2)\n",
      "Requirement already satisfied, skipping upgrade: pillow in c:\\users\\edit 6\\anaconda3\\lib\\site-packages (from wordcloud) (8.0.1)\n",
      "Requirement already satisfied, skipping upgrade: numpy>=1.6.1 in c:\\users\\edit 6\\anaconda3\\lib\\site-packages (from wordcloud) (1.19.2)\n",
      "Requirement already satisfied, skipping upgrade: kiwisolver>=1.0.1 in c:\\users\\edit 6\\anaconda3\\lib\\site-packages (from matplotlib->wordcloud) (1.3.0)\n",
      "Requirement already satisfied, skipping upgrade: certifi>=2020.06.20 in c:\\users\\edit 6\\anaconda3\\lib\\site-packages (from matplotlib->wordcloud) (2020.6.20)\n",
      "Requirement already satisfied, skipping upgrade: cycler>=0.10 in c:\\users\\edit 6\\anaconda3\\lib\\site-packages (from matplotlib->wordcloud) (0.10.0)\n",
      "Requirement already satisfied, skipping upgrade: python-dateutil>=2.1 in c:\\users\\edit 6\\anaconda3\\lib\\site-packages (from matplotlib->wordcloud) (2.8.1)\n",
      "Requirement already satisfied, skipping upgrade: pyparsing!=2.0.4,!=2.1.2,!=2.1.6,>=2.0.3 in c:\\users\\edit 6\\anaconda3\\lib\\site-packages (from matplotlib->wordcloud) (2.4.7)\n",
      "Requirement already satisfied, skipping upgrade: six in c:\\users\\edit 6\\anaconda3\\lib\\site-packages (from cycler>=0.10->matplotlib->wordcloud) (1.15.0)\n",
      "Installing collected packages: wordcloud\n",
      "Successfully installed wordcloud-1.8.1\n",
      "Collecting python-Levenshtein\n",
      "  Downloading python-Levenshtein-0.12.2.tar.gz (50 kB)\n",
      "Requirement already satisfied, skipping upgrade: setuptools in c:\\users\\edit 6\\anaconda3\\lib\\site-packages (from python-Levenshtein) (50.3.1.post20201107)\n",
      "Building wheels for collected packages: python-Levenshtein\n",
      "  Building wheel for python-Levenshtein (setup.py): started\n",
      "  Building wheel for python-Levenshtein (setup.py): finished with status 'error'\n",
      "  Running setup.py clean for python-Levenshtein\n",
      "Failed to build python-Levenshtein\n",
      "Installing collected packages: python-Levenshtein\n",
      "    Running setup.py install for python-Levenshtein: started\n",
      "    Running setup.py install for python-Levenshtein: finished with status 'error'\n"
     ]
    },
    {
     "name": "stderr",
     "output_type": "stream",
     "text": [
      "  ERROR: Command errored out with exit status 1:\n",
      "   command: 'C:\\Users\\Edit 6\\anaconda3\\python.exe' -u -c 'import sys, setuptools, tokenize; sys.argv[0] = '\"'\"'C:\\\\Users\\\\Edit 6\\\\AppData\\\\Local\\\\Temp\\\\pip-install-ub5d2lql\\\\python-levenshtein\\\\setup.py'\"'\"'; __file__='\"'\"'C:\\\\Users\\\\Edit 6\\\\AppData\\\\Local\\\\Temp\\\\pip-install-ub5d2lql\\\\python-levenshtein\\\\setup.py'\"'\"';f=getattr(tokenize, '\"'\"'open'\"'\"', open)(__file__);code=f.read().replace('\"'\"'\\r\\n'\"'\"', '\"'\"'\\n'\"'\"');f.close();exec(compile(code, __file__, '\"'\"'exec'\"'\"'))' bdist_wheel -d 'C:\\Users\\Edit 6\\AppData\\Local\\Temp\\pip-wheel-6owkdec4'\n",
      "       cwd: C:\\Users\\Edit 6\\AppData\\Local\\Temp\\pip-install-ub5d2lql\\python-levenshtein\\\n",
      "  Complete output (27 lines):\n",
      "  running bdist_wheel\n",
      "  running build\n",
      "  running build_py\n",
      "  creating build\n",
      "  creating build\\lib.win-amd64-3.8\n",
      "  creating build\\lib.win-amd64-3.8\\Levenshtein\n",
      "  copying Levenshtein\\StringMatcher.py -> build\\lib.win-amd64-3.8\\Levenshtein\n",
      "  copying Levenshtein\\__init__.py -> build\\lib.win-amd64-3.8\\Levenshtein\n",
      "  running egg_info\n",
      "  writing python_Levenshtein.egg-info\\PKG-INFO\n",
      "  writing dependency_links to python_Levenshtein.egg-info\\dependency_links.txt\n",
      "  writing entry points to python_Levenshtein.egg-info\\entry_points.txt\n",
      "  writing namespace_packages to python_Levenshtein.egg-info\\namespace_packages.txt\n",
      "  writing requirements to python_Levenshtein.egg-info\\requires.txt\n",
      "  writing top-level names to python_Levenshtein.egg-info\\top_level.txt\n",
      "  reading manifest file 'python_Levenshtein.egg-info\\SOURCES.txt'\n",
      "  reading manifest template 'MANIFEST.in'\n",
      "  warning: no previously-included files matching '*pyc' found anywhere in distribution\n",
      "  warning: no previously-included files matching '*so' found anywhere in distribution\n",
      "  warning: no previously-included files matching '.project' found anywhere in distribution\n",
      "  warning: no previously-included files matching '.pydevproject' found anywhere in distribution\n",
      "  writing manifest file 'python_Levenshtein.egg-info\\SOURCES.txt'\n",
      "  copying Levenshtein\\_levenshtein.c -> build\\lib.win-amd64-3.8\\Levenshtein\n",
      "  copying Levenshtein\\_levenshtein.h -> build\\lib.win-amd64-3.8\\Levenshtein\n",
      "  running build_ext\n",
      "  building 'Levenshtein._levenshtein' extension\n",
      "  error: Microsoft Visual C++ 14.0 or greater is required. Get it with \"Microsoft C++ Build Tools\": https://visualstudio.microsoft.com/visual-cpp-build-tools/\n",
      "  ----------------------------------------\n",
      "  ERROR: Failed building wheel for python-Levenshtein\n",
      "    ERROR: Command errored out with exit status 1:\n",
      "     command: 'C:\\Users\\Edit 6\\anaconda3\\python.exe' -u -c 'import sys, setuptools, tokenize; sys.argv[0] = '\"'\"'C:\\\\Users\\\\Edit 6\\\\AppData\\\\Local\\\\Temp\\\\pip-install-ub5d2lql\\\\python-levenshtein\\\\setup.py'\"'\"'; __file__='\"'\"'C:\\\\Users\\\\Edit 6\\\\AppData\\\\Local\\\\Temp\\\\pip-install-ub5d2lql\\\\python-levenshtein\\\\setup.py'\"'\"';f=getattr(tokenize, '\"'\"'open'\"'\"', open)(__file__);code=f.read().replace('\"'\"'\\r\\n'\"'\"', '\"'\"'\\n'\"'\"');f.close();exec(compile(code, __file__, '\"'\"'exec'\"'\"'))' install --record 'C:\\Users\\Edit 6\\AppData\\Local\\Temp\\pip-record-kzz9al9q\\install-record.txt' --single-version-externally-managed --compile --install-headers 'C:\\Users\\Edit 6\\anaconda3\\Include\\python-Levenshtein'\n",
      "         cwd: C:\\Users\\Edit 6\\AppData\\Local\\Temp\\pip-install-ub5d2lql\\python-levenshtein\\\n",
      "    Complete output (27 lines):\n",
      "    running install\n",
      "    running build\n",
      "    running build_py\n",
      "    creating build\n",
      "    creating build\\lib.win-amd64-3.8\n",
      "    creating build\\lib.win-amd64-3.8\\Levenshtein\n",
      "    copying Levenshtein\\StringMatcher.py -> build\\lib.win-amd64-3.8\\Levenshtein\n",
      "    copying Levenshtein\\__init__.py -> build\\lib.win-amd64-3.8\\Levenshtein\n",
      "    running egg_info\n",
      "    writing python_Levenshtein.egg-info\\PKG-INFO\n",
      "    writing dependency_links to python_Levenshtein.egg-info\\dependency_links.txt\n",
      "    writing entry points to python_Levenshtein.egg-info\\entry_points.txt\n",
      "    writing namespace_packages to python_Levenshtein.egg-info\\namespace_packages.txt\n",
      "    writing requirements to python_Levenshtein.egg-info\\requires.txt\n",
      "    writing top-level names to python_Levenshtein.egg-info\\top_level.txt\n",
      "    reading manifest file 'python_Levenshtein.egg-info\\SOURCES.txt'\n",
      "    reading manifest template 'MANIFEST.in'\n",
      "    warning: no previously-included files matching '*pyc' found anywhere in distribution\n",
      "    warning: no previously-included files matching '*so' found anywhere in distribution\n",
      "    warning: no previously-included files matching '.project' found anywhere in distribution\n",
      "    warning: no previously-included files matching '.pydevproject' found anywhere in distribution\n",
      "    writing manifest file 'python_Levenshtein.egg-info\\SOURCES.txt'\n",
      "    copying Levenshtein\\_levenshtein.c -> build\\lib.win-amd64-3.8\\Levenshtein\n",
      "    copying Levenshtein\\_levenshtein.h -> build\\lib.win-amd64-3.8\\Levenshtein\n",
      "    running build_ext\n",
      "    building 'Levenshtein._levenshtein' extension\n",
      "    error: Microsoft Visual C++ 14.0 or greater is required. Get it with \"Microsoft C++ Build Tools\": https://visualstudio.microsoft.com/visual-cpp-build-tools/\n",
      "    ----------------------------------------\n",
      "ERROR: Command errored out with exit status 1: 'C:\\Users\\Edit 6\\anaconda3\\python.exe' -u -c 'import sys, setuptools, tokenize; sys.argv[0] = '\"'\"'C:\\\\Users\\\\Edit 6\\\\AppData\\\\Local\\\\Temp\\\\pip-install-ub5d2lql\\\\python-levenshtein\\\\setup.py'\"'\"'; __file__='\"'\"'C:\\\\Users\\\\Edit 6\\\\AppData\\\\Local\\\\Temp\\\\pip-install-ub5d2lql\\\\python-levenshtein\\\\setup.py'\"'\"';f=getattr(tokenize, '\"'\"'open'\"'\"', open)(__file__);code=f.read().replace('\"'\"'\\r\\n'\"'\"', '\"'\"'\\n'\"'\"');f.close();exec(compile(code, __file__, '\"'\"'exec'\"'\"'))' install --record 'C:\\Users\\Edit 6\\AppData\\Local\\Temp\\pip-record-kzz9al9q\\install-record.txt' --single-version-externally-managed --compile --install-headers 'C:\\Users\\Edit 6\\anaconda3\\Include\\python-Levenshtein' Check the logs for full command output.\n"
     ]
    }
   ],
   "source": [
    "import nltk as nltk\n",
    "nltk.download('stopwords')\n",
    "nltk.download('wordnet')\n",
    "!pip install -U gensim\n",
    "!pip install -U wordcloud\n",
    "!pip install -U python-Levenshtein"
   ]
  },
  {
   "cell_type": "markdown",
   "metadata": {},
   "source": [
    "## Reading and formatting training dataset "
   ]
  },
  {
   "cell_type": "code",
   "execution_count": 2,
   "metadata": {},
   "outputs": [
    {
     "data": {
      "text/html": [
       "<div>\n",
       "<style scoped>\n",
       "    .dataframe tbody tr th:only-of-type {\n",
       "        vertical-align: middle;\n",
       "    }\n",
       "\n",
       "    .dataframe tbody tr th {\n",
       "        vertical-align: top;\n",
       "    }\n",
       "\n",
       "    .dataframe thead th {\n",
       "        text-align: right;\n",
       "    }\n",
       "</style>\n",
       "<table border=\"1\" class=\"dataframe\">\n",
       "  <thead>\n",
       "    <tr style=\"text-align: right;\">\n",
       "      <th></th>\n",
       "      <th>title</th>\n",
       "      <th>body_text</th>\n",
       "      <th>label</th>\n",
       "    </tr>\n",
       "  </thead>\n",
       "  <tbody>\n",
       "    <tr>\n",
       "      <th>0</th>\n",
       "      <td>You Can Smell Hillary’s Fear</td>\n",
       "      <td>Daniel Greenfield, a Shillman Journalism Fellow at the Freedom Center, is a New York writer focusing on radical Islam. \\nIn the final stretch of the election, Hillary Rodham Clinton has gone to wa...</td>\n",
       "      <td>FAKE</td>\n",
       "    </tr>\n",
       "    <tr>\n",
       "      <th>1</th>\n",
       "      <td>Watch The Exact Moment Paul Ryan Committed Political Suicide At A Trump Rally (VIDEO)</td>\n",
       "      <td>Google Pinterest Digg Linkedin Reddit Stumbleupon Print Delicious Pocket Tumblr \\nThere are two fundamental truths in this world: Paul Ryan desperately wants to be president. And Paul Ryan will ne...</td>\n",
       "      <td>FAKE</td>\n",
       "    </tr>\n",
       "    <tr>\n",
       "      <th>2</th>\n",
       "      <td>Kerry to go to Paris in gesture of sympathy</td>\n",
       "      <td>U.S. Secretary of State John F. Kerry said Monday that he will stop in Paris later this week, amid criticism that no top American officials attended Sunday’s unity march against terrorism.\\n\\nKerr...</td>\n",
       "      <td>REAL</td>\n",
       "    </tr>\n",
       "    <tr>\n",
       "      <th>3</th>\n",
       "      <td>Bernie supporters on Twitter erupt in anger against the DNC: 'We tried to warn you!'</td>\n",
       "      <td>— Kaydee King (@KaydeeKing) November 9, 2016 The lesson from tonight's Dem losses: Time for Democrats to start listening to the voters. Stop running the same establishment candidates. \\n— People F...</td>\n",
       "      <td>FAKE</td>\n",
       "    </tr>\n",
       "    <tr>\n",
       "      <th>4</th>\n",
       "      <td>The Battle of New York: Why This Primary Matters</td>\n",
       "      <td>It's primary day in New York and front-runners Hillary Clinton and Donald Trump are leading in the polls.\\n\\nTrump is now vowing to win enough delegates to clinch the Republican nomination and pre...</td>\n",
       "      <td>REAL</td>\n",
       "    </tr>\n",
       "  </tbody>\n",
       "</table>\n",
       "</div>"
      ],
      "text/plain": [
       "                                                                                   title  \\\n",
       "0                                                           You Can Smell Hillary’s Fear   \n",
       "1  Watch The Exact Moment Paul Ryan Committed Political Suicide At A Trump Rally (VIDEO)   \n",
       "2                                            Kerry to go to Paris in gesture of sympathy   \n",
       "3   Bernie supporters on Twitter erupt in anger against the DNC: 'We tried to warn you!'   \n",
       "4                                       The Battle of New York: Why This Primary Matters   \n",
       "\n",
       "                                                                                                                                                                                                 body_text  \\\n",
       "0  Daniel Greenfield, a Shillman Journalism Fellow at the Freedom Center, is a New York writer focusing on radical Islam. \\nIn the final stretch of the election, Hillary Rodham Clinton has gone to wa...   \n",
       "1  Google Pinterest Digg Linkedin Reddit Stumbleupon Print Delicious Pocket Tumblr \\nThere are two fundamental truths in this world: Paul Ryan desperately wants to be president. And Paul Ryan will ne...   \n",
       "2  U.S. Secretary of State John F. Kerry said Monday that he will stop in Paris later this week, amid criticism that no top American officials attended Sunday’s unity march against terrorism.\\n\\nKerr...   \n",
       "3  — Kaydee King (@KaydeeKing) November 9, 2016 The lesson from tonight's Dem losses: Time for Democrats to start listening to the voters. Stop running the same establishment candidates. \\n— People F...   \n",
       "4  It's primary day in New York and front-runners Hillary Clinton and Donald Trump are leading in the polls.\\n\\nTrump is now vowing to win enough delegates to clinch the Republican nomination and pre...   \n",
       "\n",
       "  label  \n",
       "0  FAKE  \n",
       "1  FAKE  \n",
       "2  REAL  \n",
       "3  FAKE  \n",
       "4  REAL  "
      ]
     },
     "execution_count": 2,
     "metadata": {},
     "output_type": "execute_result"
    }
   ],
   "source": [
    "import pandas as pd\n",
    "import nltk as nltk\n",
    "\n",
    "#Reading dataset\n",
    "pd.set_option(\"max_colwidth\", 200)\n",
    "data = pd.read_csv(\"fake_or_real_news.csv\")\n",
    "\n",
    "#Removing unused column\n",
    "data = data.drop(labels = \"Unnamed: 0\", axis = 1)\n",
    "\n",
    "#Labelling remaining columns\n",
    "data.columns=[\"title\", \"body_text\", \"label\"]\n",
    "\n",
    "#Uncomment the below lines if PC is struggling to process the dataset. The value for the frac parameter represents\n",
    "#the amount of data to drop from the dataset e.g. .5 = 50%.\n",
    "#data = data.drop(data.query('label == \"FAKE\"').sample(frac=.5).index)\n",
    "#data = data.drop(data.query('label == \"REAL\"').sample(frac=.5).index)\n",
    "\n",
    "data.head()"
   ]
  },
  {
   "cell_type": "markdown",
   "metadata": {},
   "source": [
    "## Initial dataset analysis"
   ]
  },
  {
   "cell_type": "code",
   "execution_count": 3,
   "metadata": {},
   "outputs": [
    {
     "name": "stdout",
     "output_type": "stream",
     "text": [
      "(6335, 3)\n",
      "REAL    3171\n",
      "FAKE    3164\n",
      "Name: label, dtype: int64\n",
      "Number of missing values in label: 0\n",
      "Number of missing values in title: 0\n",
      "Number of missing values in body_text: 0\n"
     ]
    }
   ],
   "source": [
    "# The size of that data set in (row count, column count) format\n",
    "\n",
    "print(data.shape)\n",
    "\n",
    "# The amount of data labeled as real and fake\n",
    "print(data['label'].value_counts())\n",
    "\n",
    "# The amount of missing data in the label, title, and body_text columns\n",
    "\n",
    "print('Number of missing values in label: {}'.format(data['label'].isnull().sum()))\n",
    "print('Number of missing values in title: {}'.format(data['title'].isnull().sum()))\n",
    "print('Number of missing values in body_text: {}'.format(data['body_text'].isnull().sum()))"
   ]
  },
  {
   "cell_type": "markdown",
   "metadata": {},
   "source": [
    "## Creating a preprocessing function which removes punctuations, tokenizes text, removes stop words, and lemmatizes text"
   ]
  },
  {
   "cell_type": "code",
   "execution_count": 4,
   "metadata": {},
   "outputs": [],
   "source": [
    "import string\n",
    "import re\n",
    "from nltk.corpus import stopwords\n",
    "from nltk.stem import WordNetLemmatizer \n",
    "\n",
    "lemmatizer = WordNetLemmatizer()\n",
    "ps = nltk.PorterStemmer()\n",
    "\n",
    "def remove_punctuation(text):\n",
    "    text = \"\".join([word.lower() for word in text if word not in string.punctuation])\n",
    "    return text \n",
    "\n",
    "def tokenize(text):\n",
    "    text = re.split('\\W+', text)\n",
    "    return text\n",
    "\n",
    "def remove_stop_words(text):\n",
    "    stop_words = set(stopwords.words('english'))\n",
    "    text = [word for word in text if word not in stop_words]\n",
    "    return text\n",
    "\n",
    "def lemmatize(text):\n",
    "    text = [lemmatizer.lemmatize(word) for word in text]\n",
    "    return text\n",
    "\n",
    "def pre_process_data(text):\n",
    "    text = remove_punctuation(text)\n",
    "    text = tokenize(text)\n",
    "    text = remove_stop_words(text)\n",
    "    text = lemmatize(text)\n",
    "    return text"
   ]
  },
  {
   "cell_type": "markdown",
   "metadata": {},
   "source": [
    "## Creating word cloud for top 100 occuring words in training dataset"
   ]
  },
  {
   "cell_type": "code",
   "execution_count": 5,
   "metadata": {},
   "outputs": [
    {
     "data": {
      "image/png": "[encoded data removed]",
      "text/plain": [
       "<Figure size 432x288 with 1 Axes>"
      ]
     },
     "metadata": {
      "needs_background": "light"
     },
     "output_type": "display_data"
    },
    {
     "data": {
      "text/plain": [
       "<wordcloud.wordcloud.WordCloud at 0x1b0d9cb4250>"
      ]
     },
     "execution_count": 5,
     "metadata": {},
     "output_type": "execute_result"
    }
   ],
   "source": [
    "import numpy as np\n",
    "import pandas as pd\n",
    "from os import path\n",
    "from PIL import Image\n",
    "from wordcloud import WordCloud, STOPWORDS, ImageColorGenerator\n",
    "import matplotlib.pyplot as plt\n",
    "\n",
    "text = \" \".join(articles for articles in data.body_text)\n",
    "wordcloud = WordCloud(background_color=\"white\", max_words=100).generate(text)\n",
    "\n",
    "# Display the generated image:\n",
    "\n",
    "plt.imshow(wordcloud, interpolation='bilinear')\n",
    "plt.axis(\"off\")\n",
    "plt.show()\n",
    "\n",
    "# Save wordcloud\n",
    "wordcloud.to_file(\"datasetWordCloud.png\")"
   ]
  },
  {
   "cell_type": "markdown",
   "metadata": {},
   "source": [
    "## Vectorizing training data using CountVectorizer"
   ]
  },
  {
   "cell_type": "code",
   "execution_count": 6,
   "metadata": {},
   "outputs": [],
   "source": [
    "from sklearn.feature_extraction.text import CountVectorizer\n",
    "\n",
    "count_vectorizer = CountVectorizer(analyzer=pre_process_data)\n",
    "x_count = count_vectorizer.fit_transform(data['body_text'])\n",
    "\n",
    "#Transforming sparce matrix into dataframe - model requires input as dataframe\n",
    "x_count_features = pd.DataFrame(x_count.toarray()) "
   ]
  },
  {
   "cell_type": "markdown",
   "metadata": {},
   "source": [
    "## Vectorizing training data using TF-IDF"
   ]
  },
  {
   "cell_type": "code",
   "execution_count": 7,
   "metadata": {},
   "outputs": [],
   "source": [
    "from sklearn.feature_extraction.text import TfidfVectorizer\n",
    "\n",
    "tfidf_vectorizer = TfidfVectorizer(analyzer=pre_process_data)\n",
    "x_tfidf = tfidf_vectorizer.fit_transform(data['body_text'])\n",
    "\n",
    "#Transforming sparce matrix into dataframe - model requires input as dataframe\n",
    "x_tfidf_features = pd.DataFrame(x_tfidf.toarray()) "
   ]
  },
  {
   "cell_type": "markdown",
   "metadata": {},
   "source": [
    "## Vectorizing training data using Word2Vec"
   ]
  },
  {
   "cell_type": "code",
   "execution_count": 8,
   "metadata": {},
   "outputs": [
    {
     "name": "stderr",
     "output_type": "stream",
     "text": [
      "C:\\Users\\Edit 6\\anaconda3\\lib\\site-packages\\gensim\\similarities\\__init__.py:15: UserWarning: The gensim.similarities.levenshtein submodule is disabled, because the optional Levenshtein package <https://pypi.org/project/python-Levenshtein/> is unavailable. Install Levenhstein (e.g. `pip install python-Levenshtein`) to suppress this warning.\n",
      "  warnings.warn(msg)\n",
      "<ipython-input-8-a789e568c0f5>:19: VisibleDeprecationWarning: Creating an ndarray from ragged nested sequences (which is a list-or-tuple of lists-or-tuples-or ndarrays with different lengths or shapes) is deprecated. If you meant to do this, you must specify 'dtype=object' when creating the ndarray\n",
      "  w2v_vect = np.array([np.array([embeddings.wv[word] for word in article if word in embeddings.wv.index_to_key])\n"
     ]
    }
   ],
   "source": [
    "import gensim\n",
    "import numpy as np\n",
    "from gensim.models import Word2Vec\n",
    "from sklearn.model_selection import train_test_split\n",
    "\n",
    "#Preprocessing training dataset to remove stop words etc.\n",
    "\n",
    "data['pre_proccessed_text'] = data['body_text'].apply(lambda x: pre_process_data(x))\n",
    "\n",
    "#Training Word2Vec model on words in the pre processed data that occur more than once\n",
    "\n",
    "embeddings = Word2Vec(data['pre_proccessed_text'], vector_size=100, window=5, min_count=2, workers=4)\n",
    "\n",
    "# Reprenting each word in each article with a word2Vec embedding if that word has been learning by the word2vec model \n",
    "# (occurs more than once)\n",
    "# The result is an array of arrays, where each inner array stores the embeddings of words for a given article. Any words not\n",
    "# learnt by the model are excluded.\n",
    "\n",
    "w2v_vect = np.array([np.array([embeddings.wv[word] for word in article if word in embeddings.wv.index_to_key])\n",
    "                     for article in data['pre_proccessed_text']])\n",
    "      \n",
    "# Averages the embeddings of words in an article\n",
    "# The result is an array which stores 100-dimensional vectors for each article in the corpus\n",
    "\n",
    "w2v_vect_avg = []\n",
    "for vect in w2v_vect:\n",
    "    w2v_vect_avg.append(vect.mean(axis=0))\n",
    "    \n",
    "# Vectors are stored in a pandas dataframe so that they can be interpreted by the model\n",
    "\n",
    "x_word2Vec_features = pd.DataFrame(w2v_vect_avg)                                 "
   ]
  },
  {
   "cell_type": "markdown",
   "metadata": {},
   "source": [
    "## Create evaluation metrics"
   ]
  },
  {
   "cell_type": "code",
   "execution_count": 9,
   "metadata": {},
   "outputs": [],
   "source": [
    "from sklearn.ensemble import RandomForestClassifier\n",
    "from sklearn.naive_bayes import GaussianNB\n",
    "from sklearn.linear_model import LogisticRegression\n",
    "from sklearn import svm\n",
    "from sklearn.model_selection import KFold, cross_validate\n",
    "from sklearn.metrics import recall_score, precision_score, make_scorer\n",
    "from functools import partial\n",
    "import time\n",
    "\n",
    "scoring = {'Accuracy': 'accuracy', \n",
    "           'Precision': make_scorer(precision_score, pos_label = 'FAKE'),\n",
    "           'Recall' : make_scorer(recall_score, pos_label = 'FAKE')}\n",
    "\n",
    "graph_accuracy_data = []\n",
    "graph_precision_data = []\n",
    "graph_recall_data = []\n",
    "graph_x_names = []\n",
    "\n",
    "def process_results(model_name, model_score):\n",
    "    model_accuracy = (model_score.get(\"test_Accuracy\").mean()) * 100\n",
    "    model_precision = (model_score.get(\"test_Precision\").mean()) * 100\n",
    "    model_recall = (model_score.get(\"test_Recall\").mean()) * 100\n",
    "    graph_accuracy_data.append(model_accuracy)\n",
    "    graph_precision_data.append(model_precision)\n",
    "    graph_recall_data.append(model_recall)\n",
    "    graph_x_names.append(model_name)\n",
    "    print(model_name)\n",
    "    print('Accuracy is {}'.format(model_accuracy))\n",
    "    print('Precision is {}'.format(model_precision))\n",
    "    print('Recall is {}'.format(model_recall))\n",
    "    print(\"--- %s seconds ---\\n\" % (time.time() - start_time))\n",
    "    "
   ]
  },
  {
   "cell_type": "markdown",
   "metadata": {},
   "source": [
    "## Training and evaluating models on CountVectorizer features"
   ]
  },
  {
   "cell_type": "code",
   "execution_count": 10,
   "metadata": {},
   "outputs": [
    {
     "name": "stdout",
     "output_type": "stream",
     "text": [
      "Models trained on CountVectorizer features\n",
      "LR\n",
      "Accuracy is 93.03867403314918\n",
      "Precision is 92.94260538134318\n",
      "Recall is 93.14136020957065\n",
      "--- 195.30200123786926 seconds ---\n",
      "\n",
      "RF\n",
      "Accuracy is 91.00236779794791\n",
      "Precision is 91.89053269717785\n",
      "Recall is 89.94945707600935\n",
      "--- 93.06443643569946 seconds ---\n",
      "\n",
      "GNB\n",
      "Accuracy is 81.5153906866614\n",
      "Precision is 88.26495220450695\n",
      "Recall is 72.6606275121483\n",
      "--- 27.790130138397217 seconds ---\n",
      "\n",
      "Linear SVM\n",
      "Accuracy is 90.51302288871351\n",
      "Precision is 90.62976995489058\n",
      "Recall is 90.36004959305698\n",
      "--- 1317.6071696281433 seconds ---\n",
      "\n",
      "Poly SVM\n",
      "Accuracy is 68.68192580899763\n",
      "Precision is 62.07865615478087\n",
      "Recall is 95.85992960985462\n",
      "--- 3938.56223654747 seconds ---\n",
      "\n",
      "RBF SVM\n",
      "Accuracy is 88.03472770323599\n",
      "Precision is 83.2952053409173\n",
      "Recall is 95.16437698722179\n",
      "--- 2714.384279727936 seconds ---\n",
      "\n"
     ]
    }
   ],
   "source": [
    "print('Models trained on CountVectorizer features')\n",
    "\n",
    "# Logistic Regression classifier\n",
    "\n",
    "start_time = time.time()\n",
    "lr = LogisticRegression()\n",
    "lr_score = cross_validate(lr, x_count_features, data['label'], cv=5, scoring=scoring, n_jobs=-1)\n",
    "process_results('LR', lr_score)\n",
    "\n",
    "# Random Forest classifier\n",
    "\n",
    "start_time = time.time()\n",
    "rf = RandomForestClassifier(n_jobs=-1)\n",
    "rf_score = cross_validate(rf, x_count_features, data['label'], cv=5, scoring=scoring, n_jobs=-1)\n",
    "process_results('RF', rf_score)\n",
    "\n",
    "# Gaussian Naive Bayes classifier\n",
    "\n",
    "start_time = time.time()\n",
    "gnb = GaussianNB()\n",
    "gnb_score = cross_validate(gnb, x_count_features, data['label'], cv=5, scoring=scoring, n_jobs=-1)\n",
    "process_results('GNB', gnb_score)\n",
    "\n",
    "# Linear Support Vector Machine\n",
    "\n",
    "start_time = time.time()\n",
    "linear_svc = svm.SVC(kernel='linear')\n",
    "linear_svc_score = cross_validate(linear_svc, x_count_features, data['label'], cv=5, scoring=scoring, n_jobs=-1)\n",
    "process_results('Linear SVM', linear_svc_score)\n",
    "\n",
    "# Support Vector Machine with Polynomial kernel\n",
    "\n",
    "start_time = time.time()\n",
    "poly_svc = svm.SVC(kernel='poly')\n",
    "poly_svc_score = cross_validate(poly_svc, x_count_features, data['label'], cv=5, scoring=scoring, n_jobs=-1)\n",
    "process_results('Poly SVM', poly_svc_score)\n",
    "\n",
    "# Support Vector Machine with Radial Basis Fuction kernel\n",
    "\n",
    "start_time = time.time()\n",
    "rbf_svc = svm.SVC(kernel='rbf')\n",
    "rbf_svc_score = cross_validate(rbf_svc, x_count_features, data['label'], cv=5, scoring=scoring, n_jobs=-1)\n",
    "process_results('RBF SVM', rbf_svc_score)"
   ]
  },
  {
   "cell_type": "markdown",
   "metadata": {},
   "source": [
    "## Graphical representation of model permance when trained on CountVectorizer features"
   ]
  },
  {
   "cell_type": "code",
   "execution_count": 11,
   "metadata": {},
   "outputs": [
    {
     "data": {
      "text/plain": [
       "Text(0.5, 1.0, 'CountVectorizer - Recall')"
      ]
     },
     "execution_count": 11,
     "metadata": {},
     "output_type": "execute_result"
    },
    {
     "data": {
      "image/png": "[encoded data removed]",
      "text/plain": [
       "<Figure size 1152x432 with 3 Axes>"
      ]
     },
     "metadata": {
      "needs_background": "light"
     },
     "output_type": "display_data"
    }
   ],
   "source": [
    "import numpy as np\n",
    "import pandas as pd\n",
    "from pandas import Series, DataFrame\n",
    "import matplotlib.pyplot as plt\n",
    "\n",
    "plt.figure(figsize=(16, 6))\n",
    "\n",
    "#plot 1:\n",
    "\n",
    "plt.subplot(1, 3, 1)\n",
    "plt.gca().set_ylim([0,100])\n",
    "plt.bar(graph_x_names, graph_accuracy_data, color=['black'])\n",
    "plt.xticks(rotation=90)\n",
    "plt.grid(True)\n",
    "plt.xlabel('Machine Learning Algorithm')\n",
    "plt.ylabel('Accuracy (%)')\n",
    "plt.title('CountVectorizer - Accuracy')\n",
    "\n",
    "#plot 2:\n",
    "\n",
    "plt.subplot(1, 3, 2)\n",
    "plt.gca().set_ylim([0,100])\n",
    "plt.bar(graph_x_names, graph_precision_data, color=['black'])\n",
    "plt.xticks(rotation=90)\n",
    "plt.grid(True)\n",
    "plt.xlabel('Machine Learning Algorithm')\n",
    "plt.ylabel('Precision (%)')\n",
    "plt.title('CountVectorizer - Precision')\n",
    "\n",
    "#plot 3:\n",
    "\n",
    "plt.subplot(1, 3, 3)\n",
    "plt.gca().set_ylim([0,100])\n",
    "plt.bar(graph_x_names, graph_recall_data, color=['black'])\n",
    "plt.xticks(rotation=90)\n",
    "plt.grid(True)\n",
    "plt.xlabel('Machine Learning Algorithm')\n",
    "plt.ylabel('Recall (%)')\n",
    "plt.title('CountVectorizer - Recall')\n"
   ]
  },
  {
   "cell_type": "code",
   "execution_count": 12,
   "metadata": {},
   "outputs": [],
   "source": [
    "# Resetting graph data\n",
    "\n",
    "graph_accuracy_data = []\n",
    "graph_precision_data = []\n",
    "graph_recall_data = []\n",
    "graph_x_names = []"
   ]
  },
  {
   "cell_type": "markdown",
   "metadata": {},
   "source": [
    "## Training and evaluating models on TF-IDF features"
   ]
  },
  {
   "cell_type": "code",
   "execution_count": 13,
   "metadata": {},
   "outputs": [
    {
     "name": "stdout",
     "output_type": "stream",
     "text": [
      "Models trained on TF-IDF features\n",
      "LR\n",
      "Accuracy is 92.05998421468034\n",
      "Precision is 89.63221663780739\n",
      "Recall is 95.13253144559762\n",
      "--- 80.48676657676697 seconds ---\n",
      "\n",
      "RF\n",
      "Accuracy is 91.55485398579322\n",
      "Precision is 90.74777926374978\n",
      "Recall is 92.54099426080347\n",
      "--- 111.86769485473633 seconds ---\n",
      "\n",
      "GNB\n",
      "Accuracy is 81.31018153117601\n",
      "Precision is 85.85267418118188\n",
      "Recall is 74.9364588957546\n",
      "--- 28.054651737213135 seconds ---\n",
      "\n",
      "Linear SVM\n",
      "Accuracy is 94.39621152328336\n",
      "Precision is 93.29409182506406\n",
      "Recall is 95.66995620613115\n",
      "--- 1998.6136898994446 seconds ---\n",
      "\n",
      "Poly SVM\n",
      "Accuracy is 86.20363062352013\n",
      "Precision is 79.60645542443014\n",
      "Recall is 97.31347611334414\n",
      "--- 3955.455296754837 seconds ---\n",
      "\n",
      "RBF SVM\n",
      "Accuracy is 93.43330702446725\n",
      "Precision is 91.05689406559378\n",
      "Recall is 96.33351330813686\n",
      "--- 3472.6491556167603 seconds ---\n",
      "\n"
     ]
    }
   ],
   "source": [
    "print('Models trained on TF-IDF features')\n",
    "\n",
    "#Logistic Regression classifier\n",
    "\n",
    "start_time = time.time()\n",
    "lr = LogisticRegression()\n",
    "lr_score = cross_validate(lr, x_tfidf_features, data['label'], cv=5, scoring=scoring, n_jobs=-1)\n",
    "process_results('LR', lr_score)\n",
    "\n",
    "#Random Forest classifier\n",
    "\n",
    "start_time = time.time()\n",
    "rf = RandomForestClassifier(n_jobs=-1)\n",
    "rf_score = cross_validate(rf, x_tfidf_features, data['label'], cv=5, scoring=scoring, n_jobs=-1)\n",
    "process_results('RF', rf_score)\n",
    "\n",
    "#Gaussian Naive Bayes classifier\n",
    "\n",
    "start_time = time.time()\n",
    "gnb = GaussianNB()\n",
    "gnb_score = cross_validate(gnb, x_tfidf_features, data['label'], cv=5, scoring=scoring, n_jobs=-1)\n",
    "process_results('GNB', gnb_score)\n",
    "\n",
    "#Linear Support Vector Machine\n",
    "\n",
    "start_time = time.time()\n",
    "linear_svc = svm.SVC(kernel='linear')\n",
    "linear_svc_score = cross_validate(linear_svc, x_tfidf_features, data['label'], cv=5, scoring=scoring, n_jobs=-1)\n",
    "process_results('Linear SVM', linear_svc_score)\n",
    "\n",
    "#Support Vector Machine with Polynomial kernel\n",
    "\n",
    "start_time = time.time()\n",
    "poly_svc = svm.SVC(kernel='poly')\n",
    "poly_svc_score = cross_validate(poly_svc, x_tfidf_features, data['label'], cv=5, scoring=scoring, n_jobs=-1)\n",
    "process_results('Poly SVM', poly_svc_score)\n",
    "\n",
    "#Support Vector Machine with Radial Basis Fuction kernel\n",
    "\n",
    "start_time = time.time()\n",
    "rbf_svc = svm.SVC(kernel='rbf')\n",
    "rbf_svc_score = cross_validate(rbf_svc, x_tfidf_features, data['label'], cv=5, scoring=scoring, n_jobs=-1)\n",
    "process_results('RBF SVM', rbf_svc_score)"
   ]
  },
  {
   "cell_type": "markdown",
   "metadata": {},
   "source": [
    "## Graphical representation of model permance when trained on TF-IDF features"
   ]
  },
  {
   "cell_type": "code",
   "execution_count": 14,
   "metadata": {},
   "outputs": [
    {
     "data": {
      "text/plain": [
       "Text(0.5, 1.0, 'TF-IDF - Recall')"
      ]
     },
     "execution_count": 14,
     "metadata": {},
     "output_type": "execute_result"
    },
    {
     "data": {
      "image/png": "[encoded data removed]",
      "text/plain": [
       "<Figure size 1152x432 with 3 Axes>"
      ]
     },
     "metadata": {
      "needs_background": "light"
     },
     "output_type": "display_data"
    }
   ],
   "source": [
    "plt.figure(figsize=(16, 6))\n",
    "\n",
    "#plot 1:\n",
    "\n",
    "plt.subplot(1, 3, 1)\n",
    "plt.gca().set_ylim([0,100])\n",
    "plt.bar(graph_x_names, graph_accuracy_data, color=['black'])\n",
    "plt.xticks(rotation=90)\n",
    "plt.grid(True)\n",
    "plt.xlabel('Machine Learning Algorithm')\n",
    "plt.ylabel('Accuracy (%)')\n",
    "plt.title('TF-IDF - Accuracy')\n",
    "\n",
    "#plot 2:\n",
    "\n",
    "plt.subplot(1, 3, 2)\n",
    "plt.gca().set_ylim([0,100])\n",
    "plt.bar(graph_x_names, graph_precision_data, color=['black'])\n",
    "plt.xticks(rotation=90)\n",
    "plt.grid(True)\n",
    "plt.xlabel('Machine Learning Algorithm')\n",
    "plt.ylabel('Precision (%)')\n",
    "plt.title('TF-IDF - Precision')\n",
    "\n",
    "#plot 3:\n",
    "\n",
    "plt.subplot(1, 3, 3)\n",
    "plt.gca().set_ylim([0,100])\n",
    "plt.bar(graph_x_names, graph_recall_data, color=['black'])\n",
    "plt.xticks(rotation=90)\n",
    "plt.grid(True)\n",
    "plt.xlabel('Machine Learning Algorithm')\n",
    "plt.ylabel('Recall (%)')\n",
    "plt.title('TF-IDF - Recall')\n"
   ]
  },
  {
   "cell_type": "code",
   "execution_count": 15,
   "metadata": {},
   "outputs": [],
   "source": [
    "# Resetting graph data\n",
    "\n",
    "graph_accuracy_data = []\n",
    "graph_precision_data = []\n",
    "graph_recall_data = []\n",
    "graph_x_names = []"
   ]
  },
  {
   "cell_type": "markdown",
   "metadata": {},
   "source": [
    "## Training and evaluating models on Word2Vec embeddings"
   ]
  },
  {
   "cell_type": "code",
   "execution_count": 16,
   "metadata": {},
   "outputs": [
    {
     "name": "stdout",
     "output_type": "stream",
     "text": [
      "Models trained on Word2Vec features\n",
      "LR\n",
      "Accuracy is 89.18705603788476\n",
      "Precision is 88.54185438798329\n",
      "Recall is 90.01229827824105\n",
      "--- 0.533672571182251 seconds ---\n",
      "\n",
      "RF\n",
      "Accuracy is 89.91318074191004\n",
      "Precision is 89.02947532943296\n",
      "Recall is 91.02350670906073\n",
      "--- 1.8902873992919922 seconds ---\n",
      "\n",
      "GNB\n",
      "Accuracy is 79.28966061562747\n",
      "Precision is 76.6658404823732\n",
      "Recall is 84.16521686963826\n",
      "--- 1.3842997550964355 seconds ---\n",
      "\n",
      "Linear SVM\n",
      "Accuracy is 89.37647987371744\n",
      "Precision is 89.03453510967068\n",
      "Recall is 89.79097926290318\n",
      "--- 2.5985286235809326 seconds ---\n",
      "\n",
      "Poly SVM\n",
      "Accuracy is 90.73401736385162\n",
      "Precision is 89.52137017494326\n",
      "Recall is 92.25623412722219\n",
      "--- 2.029306650161743 seconds ---\n",
      "\n",
      "RBF SVM\n",
      "Accuracy is 90.56037884767167\n",
      "Precision is 90.5300526294926\n",
      "Recall is 90.58121862939188\n",
      "--- 2.1377549171447754 seconds ---\n",
      "\n"
     ]
    }
   ],
   "source": [
    "print('Models trained on Word2Vec features')\n",
    "\n",
    "#Logistic Regression classifier\n",
    "\n",
    "start_time = time.time()\n",
    "lr = LogisticRegression()\n",
    "lr_score = cross_validate(lr, x_word2Vec_features, data['label'], cv=5, scoring=scoring, n_jobs=-1)\n",
    "process_results('LR', lr_score)\n",
    "\n",
    "#Random Forest classifier\n",
    "\n",
    "start_time = time.time()\n",
    "rf = RandomForestClassifier(n_jobs=-1)\n",
    "rf_score = cross_validate(rf, x_word2Vec_features, data['label'], cv=5, scoring=scoring, n_jobs=-1)\n",
    "process_results('RF', rf_score)\n",
    "\n",
    "#Gaussian Naive Bayes classifier\n",
    "\n",
    "start_time = time.time()\n",
    "gnb = GaussianNB()\n",
    "gnb_score = cross_validate(gnb, x_word2Vec_features, data['label'], cv=5, scoring=scoring, n_jobs=-1)\n",
    "process_results('GNB', gnb_score)\n",
    "\n",
    "#Linear Support Vector Machine\n",
    "\n",
    "start_time = time.time()\n",
    "linear_svc = svm.SVC(kernel='linear')\n",
    "linear_svc_score = cross_validate(linear_svc, x_word2Vec_features, data['label'], cv=5, scoring=scoring, n_jobs=-1)\n",
    "process_results('Linear SVM', linear_svc_score)\n",
    "\n",
    "#Support Vector Machine with Polynomial kernel\n",
    "\n",
    "start_time = time.time()\n",
    "poly_svc = svm.SVC(kernel='poly')\n",
    "poly_svc_score = cross_validate(poly_svc, x_word2Vec_features, data['label'], cv=5, scoring=scoring, n_jobs=-1)\n",
    "process_results('Poly SVM', poly_svc_score)\n",
    "\n",
    "#Support Vector Machine with Radial Basis Fuction kernel\n",
    "\n",
    "start_time = time.time()\n",
    "rbf_svc = svm.SVC(kernel='rbf')\n",
    "rbf_svc_score = cross_validate(rbf_svc, x_word2Vec_features, data['label'], cv=5, scoring=scoring, n_jobs=-1)\n",
    "process_results('RBF SVM', rbf_svc_score)"
   ]
  },
  {
   "cell_type": "markdown",
   "metadata": {},
   "source": [
    "## Graphical representation of model permance when trained on Word2Vec embeddings"
   ]
  },
  {
   "cell_type": "code",
   "execution_count": 17,
   "metadata": {},
   "outputs": [
    {
     "data": {
      "text/plain": [
       "Text(0.5, 1.0, 'Word2Vec - Recall')"
      ]
     },
     "execution_count": 17,
     "metadata": {},
     "output_type": "execute_result"
    },
    {
     "data": {
      "image/png": "[encoded data removed]",
      "text/plain": [
       "<Figure size 1152x432 with 3 Axes>"
      ]
     },
     "metadata": {
      "needs_background": "light"
     },
     "output_type": "display_data"
    }
   ],
   "source": [
    "plt.figure(figsize=(16, 6))\n",
    "\n",
    "#plot 1:\n",
    "\n",
    "plt.subplot(1, 3, 1)\n",
    "plt.gca().set_ylim([0,100])\n",
    "plt.bar(graph_x_names, graph_accuracy_data, color=['black'])\n",
    "plt.xticks(rotation=90)\n",
    "plt.grid(True)\n",
    "plt.xlabel('Machine Learning Algorithm')\n",
    "plt.ylabel('Accuracy (%)')\n",
    "plt.title('Word2Vec - Accuracy')\n",
    "\n",
    "#plot 2:\n",
    "\n",
    "plt.subplot(1, 3, 2)\n",
    "plt.gca().set_ylim([0,100])\n",
    "plt.bar(graph_x_names, graph_precision_data, color=['black'])\n",
    "plt.xticks(rotation=90)\n",
    "plt.grid(True)\n",
    "plt.xlabel('Machine Learning Algorithm')\n",
    "plt.ylabel('Precision (%)')\n",
    "plt.title('Word2Vec - Precision')\n",
    "\n",
    "#plot 3:\n",
    "\n",
    "plt.subplot(1, 3, 3)\n",
    "plt.gca().set_ylim([0,100])\n",
    "plt.bar(graph_x_names, graph_recall_data, color=['black'])\n",
    "plt.xticks(rotation=90)\n",
    "plt.grid(True)\n",
    "plt.xlabel('Machine Learning Algorithm')\n",
    "plt.ylabel('Recall (%)')\n",
    "plt.title('Word2Vec - Recall')"
   ]
  }
 ],
 "metadata": {
  "kernelspec": {
   "display_name": "Python 3",
   "language": "python",
   "name": "python3"
  },
  "language_info": {
   "codemirror_mode": {
    "name": "ipython",
    "version": 3
   },
   "file_extension": ".py",
   "mimetype": "text/x-python",
   "name": "python",
   "nbconvert_exporter": "python",
   "pygments_lexer": "ipython3",
   "version": "3.8.5"
  }
 },
 "nbformat": 4,
 "nbformat_minor": 4
}
